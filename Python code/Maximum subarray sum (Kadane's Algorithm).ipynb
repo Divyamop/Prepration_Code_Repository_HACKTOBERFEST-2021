{
 "cells": [
  {
   "cell_type": "code",
   "execution_count": 3,
   "metadata": {},
   "outputs": [
    {
     "name": "stdout",
     "output_type": "stream",
     "text": [
      "Maximum contiguous subarray sum:  7\n",
      "Start index of the subarray:  2\n",
      "End index of the subarray:  6\n",
      "Subarray:  [4, -1, -2, 1, 5]\n"
     ]
    }
   ],
   "source": [
    "#Using Kadane's Algorithm to return the maximum sum and the contiguous subarray with maximum sum \n",
    "\n",
    "def largest_sum(arr):\n",
    "    current_sum=0\n",
    "    max_so_far=arr[0]\n",
    "    start=0\n",
    "    end=0\n",
    "    temp=0\n",
    "    \n",
    "    for i in range(len(arr)):\n",
    "        current_sum=current_sum+arr[i]\n",
    "        if current_sum>max_so_far:\n",
    "            max_so_far=current_sum\n",
    "            start=temp\n",
    "            end=i\n",
    "        elif current_sum<0:\n",
    "            current_sum=0\n",
    "            temp=temp+1\n",
    "            \n",
    "    print('Maximum contiguous subarray sum: ',max_so_far )\n",
    "    print('Start index of the subarray: ',start)\n",
    "    print('End index of the subarray: ',end)\n",
    "    print('Subarray: ',arr[start:end+1])\n",
    "\n",
    "largest_sum([-2,-3,4,-1,-2,1,5,-3])"
   ]
  }
 ],
 "metadata": {
  "kernelspec": {
   "display_name": "Python 3",
   "language": "python",
   "name": "python3"
  },
  "language_info": {
   "codemirror_mode": {
    "name": "ipython",
    "version": 3
   },
   "file_extension": ".py",
   "mimetype": "text/x-python",
   "name": "python",
   "nbconvert_exporter": "python",
   "pygments_lexer": "ipython3",
   "version": "3.8.3"
  }
 },
 "nbformat": 4,
 "nbformat_minor": 4
}
